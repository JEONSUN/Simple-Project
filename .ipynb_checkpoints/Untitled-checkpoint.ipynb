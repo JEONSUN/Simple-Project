{
 "cells": [
  {
   "cell_type": "markdown",
   "metadata": {},
   "source": [
    "# Simple Project\n",
    "\n",
    "***\n",
    "\n",
    "#### 캐글, 데이콘과 같은 인공지능 플랫폼을 활용하여 간단한 분석 프로젝트를 진행\n",
    "***\n",
    "\n",
    "### INDEX\n",
    "\n",
    "***\n",
    "\n",
    "1. Fashion_MNIST(https://dacon.io/competitions/official/235594/overview/description)\n",
    "\n",
    "**제출 리더보드**\n",
    "- ANN모델 적용 : 2021-07-17 기준 정확도 0.891 78등\n",
    "\n",
    "- CNN모델 적용 : 2021-07-20 기준 정확도 0.9277 23등\n",
    "\n",
    "\n",
    "***"
   ]
  }
 ],
 "metadata": {
  "kernelspec": {
   "display_name": "Python 3",
   "language": "python",
   "name": "python3"
  },
  "language_info": {
   "codemirror_mode": {
    "name": "ipython",
    "version": 3
   },
   "file_extension": ".py",
   "mimetype": "text/x-python",
   "name": "python",
   "nbconvert_exporter": "python",
   "pygments_lexer": "ipython3",
   "version": "3.8.5"
  }
 },
 "nbformat": 4,
 "nbformat_minor": 4
}
